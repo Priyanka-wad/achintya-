{
  "nbformat": 4,
  "nbformat_minor": 0,
  "metadata": {
    "colab": {
      "provenance": [],
      "collapsed_sections": [],
      "authorship_tag": "ABX9TyPOovz2L4E+SgjmGuT2Gs80",
      "include_colab_link": true
    },
    "kernelspec": {
      "name": "python3",
      "display_name": "Python 3"
    },
    "language_info": {
      "name": "python"
    }
  },
  "cells": [
    {
      "cell_type": "markdown",
      "metadata": {
        "id": "view-in-github",
        "colab_type": "text"
      },
      "source": [
        "<a href=\"https://colab.research.google.com/github/Priyanka-wad/achintya-/blob/main/dodosResult.ipynb\" target=\"_parent\"><img src=\"https://colab.research.google.com/assets/colab-badge.svg\" alt=\"Open In Colab\"/></a>"
      ]
    },
    {
      "cell_type": "code",
      "execution_count": 13,
      "metadata": {
        "colab": {
          "base_uri": "https://localhost:8080/"
        },
        "id": "STJwg4icCtRp",
        "outputId": "20d21065-1bdb-4f46-bd08-5679e1487a73"
      },
      "outputs": [
        {
          "output_type": "execute_result",
          "data": {
            "text/plain": [
              "['english', 85]"
            ]
          },
          "metadata": {},
          "execution_count": 13
        }
      ],
      "source": [
        "array=[\"maths\",90,\"english\",85,\"history\",97]\n",
        "list(array)\n",
        "\n",
        "len(array)\n",
        "\n",
        "array[0]\n",
        "array[-1]\n",
        "\n",
        "array[2:4:1]"
      ]
    }
  ]
}